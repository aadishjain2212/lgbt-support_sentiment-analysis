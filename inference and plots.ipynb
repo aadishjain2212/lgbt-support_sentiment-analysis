{
 "cells": [
  {
   "cell_type": "markdown",
   "metadata": {},
   "source": [
    "## Inference and plots "
   ]
  },
  {
   "cell_type": "markdown",
   "metadata": {},
   "source": [
    "#### This graph represents the count of negative and positive sentiments in India"
   ]
  },
  {
   "cell_type": "markdown",
   "metadata": {},
   "source": [
    "![alt text](./Output/India_LGBT_sentiment.png)"
   ]
  },
  {
   "cell_type": "markdown",
   "metadata": {},
   "source": [
    "#### This graph represents positive and negative seniment in World"
   ]
  },
  {
   "cell_type": "markdown",
   "metadata": {},
   "source": [
    "![alt text](./Output/World_LGBT_sentiment.png)"
   ]
  },
  {
   "cell_type": "markdown",
   "metadata": {},
   "source": [
    "#### This graph represents the comparitive sentiments of\"support for LGBT community\" for both India and world"
   ]
  },
  {
   "cell_type": "markdown",
   "metadata": {},
   "source": [
    "![alt text](./Output/Comaparative_LGBT_sentiment.png)"
   ]
  },
  {
   "cell_type": "markdown",
   "metadata": {},
   "source": [
    "### Inference:\n",
    "After scraping tweets on support for LGBT from India and world and applying sentiment analysis on them, it can be inferred that there are mixed sentiments on the subject.<br>\n",
    "Although the positive sentiment is more prevelant than the negative sentiment in India and the world.<br>\n",
    "In India there is more positive to negative sentiment ratio(3.11) of \"support for LGBT\" comapre to the world(1.03).<br>\n",
    "It can be concluded that for the given limited dataset India has more positive support for LGBT compare to the world."
   ]
  },
  {
   "cell_type": "code",
   "execution_count": null,
   "metadata": {
    "collapsed": true
   },
   "outputs": [],
   "source": []
  }
 ],
 "metadata": {
  "kernelspec": {
   "display_name": "Python 2",
   "language": "python",
   "name": "python2"
  },
  "language_info": {
   "codemirror_mode": {
    "name": "ipython",
    "version": 2
   },
   "file_extension": ".py",
   "mimetype": "text/x-python",
   "name": "python",
   "nbconvert_exporter": "python",
   "pygments_lexer": "ipython2",
   "version": "2.7.13"
  }
 },
 "nbformat": 4,
 "nbformat_minor": 2
}
